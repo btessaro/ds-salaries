{
 "cells": [
  {
   "cell_type": "markdown",
   "id": "ff6f6f2d-4464-49d7-95c0-d2dba7cee607",
   "metadata": {},
   "source": [
    "# Data Science job salaries "
   ]
  },
  {
   "cell_type": "markdown",
   "id": "dc6227d2-d126-4d9b-9ce7-0a8a6387ef3a",
   "metadata": {},
   "source": [
    "Dataset from [Kaggle](https://www.kaggle.com/datasets/ruchi798/data-science-job-salaries)."
   ]
  },
  {
   "cell_type": "markdown",
   "id": "43790f73-4d4e-4aa7-8714-11b15fb3c225",
   "metadata": {},
   "source": [
    "Import relevant libraries"
   ]
  },
  {
   "cell_type": "code",
   "execution_count": 1,
   "id": "ec01a6c9-2995-4155-a4fd-515528fa9809",
   "metadata": {},
   "outputs": [],
   "source": [
    "import pandas as pd\n",
    "import numpy as np\n",
    "import seaborn as sns\n",
    "import matplotlib.pyplot as plt\n",
    "import scipy.stats as stats"
   ]
  },
  {
   "cell_type": "markdown",
   "id": "17112a3e-8767-42f1-b7ea-5c0f48ce71d2",
   "metadata": {},
   "source": [
    "Read data"
   ]
  },
  {
   "cell_type": "code",
   "execution_count": 2,
   "id": "338bb752-bb77-4283-9d32-f3b6ba5946e4",
   "metadata": {},
   "outputs": [],
   "source": [
    "df = pd.read_csv('ds_salaries.csv')"
   ]
  },
  {
   "cell_type": "markdown",
   "id": "b0be8420-81a9-412f-a09b-abbb1bb1372b",
   "metadata": {},
   "source": [
    "How many columns are there? What are their names? What kind of data to they have?"
   ]
  },
  {
   "cell_type": "code",
   "execution_count": 3,
   "id": "d7a651b8-7096-43f0-9fcc-c1109071ddf1",
   "metadata": {},
   "outputs": [
    {
     "name": "stdout",
     "output_type": "stream",
     "text": [
      "<class 'pandas.core.frame.DataFrame'>\n",
      "RangeIndex: 607 entries, 0 to 606\n",
      "Data columns (total 12 columns):\n",
      " #   Column              Non-Null Count  Dtype \n",
      "---  ------              --------------  ----- \n",
      " 0   Unnamed: 0          607 non-null    int64 \n",
      " 1   work_year           607 non-null    int64 \n",
      " 2   experience_level    607 non-null    object\n",
      " 3   employment_type     607 non-null    object\n",
      " 4   job_title           607 non-null    object\n",
      " 5   salary              607 non-null    int64 \n",
      " 6   salary_currency     607 non-null    object\n",
      " 7   salary_in_usd       607 non-null    int64 \n",
      " 8   employee_residence  607 non-null    object\n",
      " 9   remote_ratio        607 non-null    int64 \n",
      " 10  company_location    607 non-null    object\n",
      " 11  company_size        607 non-null    object\n",
      "dtypes: int64(5), object(7)\n",
      "memory usage: 57.0+ KB\n"
     ]
    }
   ],
   "source": [
    "df.info()"
   ]
  },
  {
   "cell_type": "markdown",
   "id": "39151de0-1763-4cd9-b330-4370b840df71",
   "metadata": {},
   "source": [
    "Get a closer look of the data\n"
   ]
  },
  {
   "cell_type": "code",
   "execution_count": 4,
   "id": "02eac392-97bd-4c04-a033-1f6d116d25c8",
   "metadata": {},
   "outputs": [
    {
     "data": {
      "text/html": [
       "<div>\n",
       "<style scoped>\n",
       "    .dataframe tbody tr th:only-of-type {\n",
       "        vertical-align: middle;\n",
       "    }\n",
       "\n",
       "    .dataframe tbody tr th {\n",
       "        vertical-align: top;\n",
       "    }\n",
       "\n",
       "    .dataframe thead th {\n",
       "        text-align: right;\n",
       "    }\n",
       "</style>\n",
       "<table border=\"1\" class=\"dataframe\">\n",
       "  <thead>\n",
       "    <tr style=\"text-align: right;\">\n",
       "      <th></th>\n",
       "      <th>Unnamed: 0</th>\n",
       "      <th>work_year</th>\n",
       "      <th>experience_level</th>\n",
       "      <th>employment_type</th>\n",
       "      <th>job_title</th>\n",
       "      <th>salary</th>\n",
       "      <th>salary_currency</th>\n",
       "      <th>salary_in_usd</th>\n",
       "      <th>employee_residence</th>\n",
       "      <th>remote_ratio</th>\n",
       "      <th>company_location</th>\n",
       "      <th>company_size</th>\n",
       "    </tr>\n",
       "  </thead>\n",
       "  <tbody>\n",
       "    <tr>\n",
       "      <th>0</th>\n",
       "      <td>0</td>\n",
       "      <td>2020</td>\n",
       "      <td>MI</td>\n",
       "      <td>FT</td>\n",
       "      <td>Data Scientist</td>\n",
       "      <td>70000</td>\n",
       "      <td>EUR</td>\n",
       "      <td>79833</td>\n",
       "      <td>DE</td>\n",
       "      <td>0</td>\n",
       "      <td>DE</td>\n",
       "      <td>L</td>\n",
       "    </tr>\n",
       "    <tr>\n",
       "      <th>1</th>\n",
       "      <td>1</td>\n",
       "      <td>2020</td>\n",
       "      <td>SE</td>\n",
       "      <td>FT</td>\n",
       "      <td>Machine Learning Scientist</td>\n",
       "      <td>260000</td>\n",
       "      <td>USD</td>\n",
       "      <td>260000</td>\n",
       "      <td>JP</td>\n",
       "      <td>0</td>\n",
       "      <td>JP</td>\n",
       "      <td>S</td>\n",
       "    </tr>\n",
       "    <tr>\n",
       "      <th>2</th>\n",
       "      <td>2</td>\n",
       "      <td>2020</td>\n",
       "      <td>SE</td>\n",
       "      <td>FT</td>\n",
       "      <td>Big Data Engineer</td>\n",
       "      <td>85000</td>\n",
       "      <td>GBP</td>\n",
       "      <td>109024</td>\n",
       "      <td>GB</td>\n",
       "      <td>50</td>\n",
       "      <td>GB</td>\n",
       "      <td>M</td>\n",
       "    </tr>\n",
       "    <tr>\n",
       "      <th>3</th>\n",
       "      <td>3</td>\n",
       "      <td>2020</td>\n",
       "      <td>MI</td>\n",
       "      <td>FT</td>\n",
       "      <td>Product Data Analyst</td>\n",
       "      <td>20000</td>\n",
       "      <td>USD</td>\n",
       "      <td>20000</td>\n",
       "      <td>HN</td>\n",
       "      <td>0</td>\n",
       "      <td>HN</td>\n",
       "      <td>S</td>\n",
       "    </tr>\n",
       "    <tr>\n",
       "      <th>4</th>\n",
       "      <td>4</td>\n",
       "      <td>2020</td>\n",
       "      <td>SE</td>\n",
       "      <td>FT</td>\n",
       "      <td>Machine Learning Engineer</td>\n",
       "      <td>150000</td>\n",
       "      <td>USD</td>\n",
       "      <td>150000</td>\n",
       "      <td>US</td>\n",
       "      <td>50</td>\n",
       "      <td>US</td>\n",
       "      <td>L</td>\n",
       "    </tr>\n",
       "  </tbody>\n",
       "</table>\n",
       "</div>"
      ],
      "text/plain": [
       "   Unnamed: 0  work_year experience_level employment_type  \\\n",
       "0           0       2020               MI              FT   \n",
       "1           1       2020               SE              FT   \n",
       "2           2       2020               SE              FT   \n",
       "3           3       2020               MI              FT   \n",
       "4           4       2020               SE              FT   \n",
       "\n",
       "                    job_title  salary salary_currency  salary_in_usd  \\\n",
       "0              Data Scientist   70000             EUR          79833   \n",
       "1  Machine Learning Scientist  260000             USD         260000   \n",
       "2           Big Data Engineer   85000             GBP         109024   \n",
       "3        Product Data Analyst   20000             USD          20000   \n",
       "4   Machine Learning Engineer  150000             USD         150000   \n",
       "\n",
       "  employee_residence  remote_ratio company_location company_size  \n",
       "0                 DE             0               DE            L  \n",
       "1                 JP             0               JP            S  \n",
       "2                 GB            50               GB            M  \n",
       "3                 HN             0               HN            S  \n",
       "4                 US            50               US            L  "
      ]
     },
     "execution_count": 4,
     "metadata": {},
     "output_type": "execute_result"
    }
   ],
   "source": [
    "df.head()"
   ]
  },
  {
   "cell_type": "markdown",
   "id": "48f28604-7bbf-4340-8015-a4ff046da1b0",
   "metadata": {},
   "source": [
    "**What are the salaries by year? Has it increased or decreased over the years?**"
   ]
  },
  {
   "cell_type": "markdown",
   "id": "54404115-b758-4393-8d95-41da6be42da8",
   "metadata": {},
   "source": [
    "Let's first look at which years are included in the data, and how many observations per year we have."
   ]
  },
  {
   "cell_type": "code",
   "execution_count": 5,
   "id": "c1ea03a2-28a0-41ac-95a3-656b12c920ec",
   "metadata": {},
   "outputs": [
    {
     "data": {
      "text/plain": [
       "2022    318\n",
       "2021    217\n",
       "2020     72\n",
       "Name: work_year, dtype: int64"
      ]
     },
     "execution_count": 5,
     "metadata": {},
     "output_type": "execute_result"
    }
   ],
   "source": [
    "df.work_year.value_counts()"
   ]
  },
  {
   "cell_type": "markdown",
   "id": "a3dd3d53-dcbd-4cae-821e-d2335040153a",
   "metadata": {},
   "source": [
    "What is the average salary per year?"
   ]
  },
  {
   "cell_type": "code",
   "execution_count": 6,
   "id": "f177d4c8-0f3b-4fb7-ae7c-838d9a277b10",
   "metadata": {},
   "outputs": [
    {
     "data": {
      "text/html": [
       "<div>\n",
       "<style scoped>\n",
       "    .dataframe tbody tr th:only-of-type {\n",
       "        vertical-align: middle;\n",
       "    }\n",
       "\n",
       "    .dataframe tbody tr th {\n",
       "        vertical-align: top;\n",
       "    }\n",
       "\n",
       "    .dataframe thead th {\n",
       "        text-align: right;\n",
       "    }\n",
       "</style>\n",
       "<table border=\"1\" class=\"dataframe\">\n",
       "  <thead>\n",
       "    <tr style=\"text-align: right;\">\n",
       "      <th></th>\n",
       "      <th>Unnamed: 0</th>\n",
       "      <th>salary</th>\n",
       "      <th>salary_in_usd</th>\n",
       "      <th>remote_ratio</th>\n",
       "    </tr>\n",
       "    <tr>\n",
       "      <th>work_year</th>\n",
       "      <th></th>\n",
       "      <th></th>\n",
       "      <th></th>\n",
       "      <th></th>\n",
       "    </tr>\n",
       "  </thead>\n",
       "  <tbody>\n",
       "    <tr>\n",
       "      <th>2020</th>\n",
       "      <td>35.5</td>\n",
       "      <td>382386.236111</td>\n",
       "      <td>95813.000000</td>\n",
       "      <td>64.583333</td>\n",
       "    </tr>\n",
       "    <tr>\n",
       "      <th>2021</th>\n",
       "      <td>180.0</td>\n",
       "      <td>546677.387097</td>\n",
       "      <td>99853.792627</td>\n",
       "      <td>69.124424</td>\n",
       "    </tr>\n",
       "    <tr>\n",
       "      <th>2022</th>\n",
       "      <td>447.5</td>\n",
       "      <td>158827.786164</td>\n",
       "      <td>124522.006289</td>\n",
       "      <td>73.584906</td>\n",
       "    </tr>\n",
       "  </tbody>\n",
       "</table>\n",
       "</div>"
      ],
      "text/plain": [
       "           Unnamed: 0         salary  salary_in_usd  remote_ratio\n",
       "work_year                                                        \n",
       "2020             35.5  382386.236111   95813.000000     64.583333\n",
       "2021            180.0  546677.387097   99853.792627     69.124424\n",
       "2022            447.5  158827.786164  124522.006289     73.584906"
      ]
     },
     "execution_count": 6,
     "metadata": {},
     "output_type": "execute_result"
    }
   ],
   "source": [
    "year = df.groupby('work_year').mean('salary_in_usd')\n",
    "year"
   ]
  },
  {
   "cell_type": "markdown",
   "id": "5903c147-8c36-4818-a0ed-c2ed6cb3dc6d",
   "metadata": {},
   "source": [
    "What is the average salary per experience level?"
   ]
  },
  {
   "cell_type": "code",
   "execution_count": 7,
   "id": "24e57b64-1f59-474c-a407-3842979c4933",
   "metadata": {},
   "outputs": [],
   "source": [
    "df['experience_level'] = df['experience_level'].replace({'EN':'Junior',\n",
    "                                                        'MI': 'Midlevel',\n",
    "                                                        'SE':'Senior',\n",
    "                                                        'EX': 'Expert'})\n",
    "categories=pd.CategoricalDtype(categories=['Junior', 'Midlevel', 'Senior', 'Expert'], \n",
    "                           ordered=True)\n",
    "df['experience_level']=df[\"experience_level\"].astype(categories)\n",
    "\n",
    "                                                            "
   ]
  },
  {
   "cell_type": "code",
   "execution_count": 8,
   "id": "6085aad8-f2c0-4cf7-bdce-c37f836969ff",
   "metadata": {},
   "outputs": [
    {
     "data": {
      "text/html": [
       "<div>\n",
       "<style scoped>\n",
       "    .dataframe tbody tr th:only-of-type {\n",
       "        vertical-align: middle;\n",
       "    }\n",
       "\n",
       "    .dataframe tbody tr th {\n",
       "        vertical-align: top;\n",
       "    }\n",
       "\n",
       "    .dataframe thead th {\n",
       "        text-align: right;\n",
       "    }\n",
       "</style>\n",
       "<table border=\"1\" class=\"dataframe\">\n",
       "  <thead>\n",
       "    <tr style=\"text-align: right;\">\n",
       "      <th></th>\n",
       "      <th>Unnamed: 0</th>\n",
       "      <th>work_year</th>\n",
       "      <th>salary</th>\n",
       "      <th>salary_in_usd</th>\n",
       "      <th>remote_ratio</th>\n",
       "    </tr>\n",
       "    <tr>\n",
       "      <th>experience_level</th>\n",
       "      <th></th>\n",
       "      <th></th>\n",
       "      <th></th>\n",
       "      <th></th>\n",
       "      <th></th>\n",
       "    </tr>\n",
       "  </thead>\n",
       "  <tbody>\n",
       "    <tr>\n",
       "      <th>Junior</th>\n",
       "      <td>218.181818</td>\n",
       "      <td>2021.011364</td>\n",
       "      <td>264622.454545</td>\n",
       "      <td>61643.318182</td>\n",
       "      <td>69.886364</td>\n",
       "    </tr>\n",
       "    <tr>\n",
       "      <th>Midlevel</th>\n",
       "      <td>269.666667</td>\n",
       "      <td>2021.276995</td>\n",
       "      <td>480617.690141</td>\n",
       "      <td>87996.056338</td>\n",
       "      <td>63.849765</td>\n",
       "    </tr>\n",
       "    <tr>\n",
       "      <th>Senior</th>\n",
       "      <td>359.160714</td>\n",
       "      <td>2021.625000</td>\n",
       "      <td>213949.353571</td>\n",
       "      <td>138617.292857</td>\n",
       "      <td>75.892857</td>\n",
       "    </tr>\n",
       "    <tr>\n",
       "      <th>Expert</th>\n",
       "      <td>258.346154</td>\n",
       "      <td>2021.423077</td>\n",
       "      <td>427072.115385</td>\n",
       "      <td>199392.038462</td>\n",
       "      <td>78.846154</td>\n",
       "    </tr>\n",
       "  </tbody>\n",
       "</table>\n",
       "</div>"
      ],
      "text/plain": [
       "                  Unnamed: 0    work_year         salary  salary_in_usd  \\\n",
       "experience_level                                                          \n",
       "Junior            218.181818  2021.011364  264622.454545   61643.318182   \n",
       "Midlevel          269.666667  2021.276995  480617.690141   87996.056338   \n",
       "Senior            359.160714  2021.625000  213949.353571  138617.292857   \n",
       "Expert            258.346154  2021.423077  427072.115385  199392.038462   \n",
       "\n",
       "                  remote_ratio  \n",
       "experience_level                \n",
       "Junior               69.886364  \n",
       "Midlevel             63.849765  \n",
       "Senior               75.892857  \n",
       "Expert               78.846154  "
      ]
     },
     "execution_count": 8,
     "metadata": {},
     "output_type": "execute_result"
    }
   ],
   "source": [
    "experience = df.groupby('experience_level').mean('salary_in_usd').sort_values('salary_in_usd')\n",
    "experience"
   ]
  },
  {
   "cell_type": "markdown",
   "id": "c45a7617-3033-45b1-9c38-c501c0a77514",
   "metadata": {},
   "source": [
    "Average salary over the last three years by level of experience"
   ]
  },
  {
   "cell_type": "code",
   "execution_count": 9,
   "id": "409f9984-9675-4d0e-a605-37cd7a94acc7",
   "metadata": {},
   "outputs": [
    {
     "data": {
      "text/plain": [
       "[Text(0.5, 1.0, 'DS salaries over the years'),\n",
       " Text(0.5, 0, 'Year'),\n",
       " Text(0, 0.5, 'Salary in USD')]"
      ]
     },
     "execution_count": 9,
     "metadata": {},
     "output_type": "execute_result"
    },
    {
     "data": {
      "image/png": "[encoded data removed]",
      "text/plain": [
       "<Figure size 432x288 with 1 Axes>"
      ]
     },
     "metadata": {
      "needs_background": "light"
     },
     "output_type": "display_data"
    }
   ],
   "source": [
    "df['work_year'] = df['work_year'].apply(str)\n",
    "sns.lineplot(x=\"work_year\", y=\"salary_in_usd\",\n",
    "            hue = 'experience_level',\n",
    "            data=df).set(title='DS salaries over the years',\n",
    "                          xlabel = 'Year', ylabel = 'Salary in USD')\n"
   ]
  },
  {
   "cell_type": "code",
   "execution_count": 10,
   "id": "6a2c67e9-6812-4acd-981d-f4c189aab302",
   "metadata": {},
   "outputs": [
    {
     "data": {
      "image/png": "[encoded data removed]",
      "text/plain": [
       "<Figure size 432x288 with 1 Axes>"
      ]
     },
     "metadata": {
      "needs_background": "light"
     },
     "output_type": "display_data"
    }
   ],
   "source": [
    "sns.barplot(x=\"work_year\", y=\"salary_in_usd\",\n",
    "            hue = 'experience_level',\n",
    "             data=df).set(title='DS salaries over the years',\n",
    "                          xlabel = 'Year', ylabel = 'Salary in USD')\n",
    "for spine in plt.gca().spines.values():\n",
    "    spine.set_visible(False)\n"
   ]
  },
  {
   "cell_type": "markdown",
   "id": "333e0e42-212c-4d12-8e83-8d65ab945d55",
   "metadata": {},
   "source": [
    "Does company size matter for salaries? Perhaps bigger companies can afford higher salaries?\n",
    "\n"
   ]
  },
  {
   "cell_type": "code",
   "execution_count": 11,
   "id": "f437b2ec-04bb-407f-9d90-d46faa4455a1",
   "metadata": {},
   "outputs": [
    {
     "data": {
      "text/html": [
       "<div>\n",
       "<style scoped>\n",
       "    .dataframe tbody tr th:only-of-type {\n",
       "        vertical-align: middle;\n",
       "    }\n",
       "\n",
       "    .dataframe tbody tr th {\n",
       "        vertical-align: top;\n",
       "    }\n",
       "\n",
       "    .dataframe thead th {\n",
       "        text-align: right;\n",
       "    }\n",
       "</style>\n",
       "<table border=\"1\" class=\"dataframe\">\n",
       "  <thead>\n",
       "    <tr style=\"text-align: right;\">\n",
       "      <th></th>\n",
       "      <th>company_size</th>\n",
       "      <th>experience_level</th>\n",
       "      <th>0</th>\n",
       "    </tr>\n",
       "  </thead>\n",
       "  <tbody>\n",
       "    <tr>\n",
       "      <th>0</th>\n",
       "      <td>Large</td>\n",
       "      <td>Junior</td>\n",
       "      <td>29</td>\n",
       "    </tr>\n",
       "    <tr>\n",
       "      <th>1</th>\n",
       "      <td>Large</td>\n",
       "      <td>Midlevel</td>\n",
       "      <td>86</td>\n",
       "    </tr>\n",
       "    <tr>\n",
       "      <th>2</th>\n",
       "      <td>Large</td>\n",
       "      <td>Senior</td>\n",
       "      <td>72</td>\n",
       "    </tr>\n",
       "    <tr>\n",
       "      <th>3</th>\n",
       "      <td>Large</td>\n",
       "      <td>Expert</td>\n",
       "      <td>11</td>\n",
       "    </tr>\n",
       "    <tr>\n",
       "      <th>4</th>\n",
       "      <td>Medium</td>\n",
       "      <td>Junior</td>\n",
       "      <td>30</td>\n",
       "    </tr>\n",
       "    <tr>\n",
       "      <th>5</th>\n",
       "      <td>Medium</td>\n",
       "      <td>Midlevel</td>\n",
       "      <td>98</td>\n",
       "    </tr>\n",
       "    <tr>\n",
       "      <th>6</th>\n",
       "      <td>Medium</td>\n",
       "      <td>Senior</td>\n",
       "      <td>186</td>\n",
       "    </tr>\n",
       "    <tr>\n",
       "      <th>7</th>\n",
       "      <td>Medium</td>\n",
       "      <td>Expert</td>\n",
       "      <td>12</td>\n",
       "    </tr>\n",
       "    <tr>\n",
       "      <th>8</th>\n",
       "      <td>Small</td>\n",
       "      <td>Junior</td>\n",
       "      <td>29</td>\n",
       "    </tr>\n",
       "    <tr>\n",
       "      <th>9</th>\n",
       "      <td>Small</td>\n",
       "      <td>Midlevel</td>\n",
       "      <td>29</td>\n",
       "    </tr>\n",
       "    <tr>\n",
       "      <th>10</th>\n",
       "      <td>Small</td>\n",
       "      <td>Senior</td>\n",
       "      <td>22</td>\n",
       "    </tr>\n",
       "    <tr>\n",
       "      <th>11</th>\n",
       "      <td>Small</td>\n",
       "      <td>Expert</td>\n",
       "      <td>3</td>\n",
       "    </tr>\n",
       "  </tbody>\n",
       "</table>\n",
       "</div>"
      ],
      "text/plain": [
       "   company_size experience_level    0\n",
       "0         Large           Junior   29\n",
       "1         Large         Midlevel   86\n",
       "2         Large           Senior   72\n",
       "3         Large           Expert   11\n",
       "4        Medium           Junior   30\n",
       "5        Medium         Midlevel   98\n",
       "6        Medium           Senior  186\n",
       "7        Medium           Expert   12\n",
       "8         Small           Junior   29\n",
       "9         Small         Midlevel   29\n",
       "10        Small           Senior   22\n",
       "11        Small           Expert    3"
      ]
     },
     "execution_count": 11,
     "metadata": {},
     "output_type": "execute_result"
    }
   ],
   "source": [
    "df['company_size']=df[\"company_size\"].replace({'S': 'Small',\n",
    "                                                'M': 'Medium',\n",
    "                                                'L': 'Large'})\n",
    "experience_by_size = df.groupby(['company_size', 'experience_level']).size().reset_index()\n",
    "experience_by_size\n"
   ]
  },
  {
   "cell_type": "code",
   "execution_count": 13,
   "id": "93a802ea-9a1a-4299-8e6c-e56d08fb47fa",
   "metadata": {},
   "outputs": [
    {
     "data": {
      "image/png": "[encoded data removed]",
      "text/plain": [
       "<Figure size 432x288 with 1 Axes>"
      ]
     },
     "metadata": {
      "needs_background": "light"
     },
     "output_type": "display_data"
    }
   ],
   "source": [
    "sns.barplot(x=\"company_size\", y=0,\n",
    "            hue = 'experience_level',\n",
    "             data=experience_by_size).set(title='Number of datapoints by company size',\n",
    "                          xlabel = 'Company Size', ylabel = 'N of datapoints')\n",
    "for spine in plt.gca().spines.values():\n",
    "    spine.set_visible(False)"
   ]
  },
  {
   "cell_type": "code",
   "execution_count": 14,
   "id": "b2591271-0bd1-4c3d-978e-cefb08cdcc01",
   "metadata": {},
   "outputs": [
    {
     "data": {
      "text/plain": [
       "(0.15120545454530898, 0.00018464701639251776)"
      ]
     },
     "execution_count": 14,
     "metadata": {},
     "output_type": "execute_result"
    }
   ],
   "source": [
    "company_size = df['company_size'].replace({\"Large\":3, \"Medium\": 2, \"Small\": 1})\n",
    "salary = df['salary_in_usd']\n",
    "stats.pearsonr(company_size,salary)"
   ]
  },
  {
   "cell_type": "markdown",
   "id": "d77fd97c-1464-4d5f-ad28-d42616dbd32c",
   "metadata": {},
   "source": [
    "There's a significant low correlation (larger companies pay better salaries)."
   ]
  },
  {
   "cell_type": "markdown",
   "id": "f6d82163-b06e-4f3d-8041-7c4eb2cebf73",
   "metadata": {},
   "source": [
    "Average salary per company size"
   ]
  },
  {
   "cell_type": "code",
   "execution_count": 16,
   "id": "4a02d48a-3b67-4415-9756-bf4acbbe479d",
   "metadata": {},
   "outputs": [
    {
     "data": {
      "image/png": "[encoded data removed]",
      "text/plain": [
       "<Figure size 432x288 with 1 Axes>"
      ]
     },
     "metadata": {
      "needs_background": "light"
     },
     "output_type": "display_data"
    }
   ],
   "source": [
    "sns.barplot(x = 'company_size',\n",
    "          y = 'salary_in_usd', data = df)\n",
    "for spine in plt.gca().spines.values():\n",
    "    spine.set_visible(False)"
   ]
  },
  {
   "cell_type": "code",
   "execution_count": null,
   "id": "15a33850-e7b9-40f0-997e-d9d3fdcc6337",
   "metadata": {},
   "outputs": [],
   "source": []
  },
  {
   "cell_type": "code",
   "execution_count": null,
   "id": "0a35ca86-9457-431c-b2eb-1e618e40f25a",
   "metadata": {},
   "outputs": [],
   "source": []
  },
  {
   "cell_type": "code",
   "execution_count": null,
   "id": "2bbc4432-7099-4250-8fc8-d2defccfe1ff",
   "metadata": {},
   "outputs": [],
   "source": []
  },
  {
   "cell_type": "code",
   "execution_count": null,
   "id": "ebb9f696-92a5-4d7c-9def-55af1245cd5c",
   "metadata": {},
   "outputs": [],
   "source": []
  },
  {
   "cell_type": "code",
   "execution_count": null,
   "id": "09003181-4bcd-482d-9955-6b941ab438e0",
   "metadata": {},
   "outputs": [],
   "source": []
  },
  {
   "cell_type": "code",
   "execution_count": null,
   "id": "05f55c9a-4682-4c66-b886-4cffebe4de4c",
   "metadata": {},
   "outputs": [],
   "source": []
  },
  {
   "cell_type": "code",
   "execution_count": null,
   "id": "15453322-88e7-46dd-8cc5-a32b58a5d8c4",
   "metadata": {},
   "outputs": [],
   "source": []
  },
  {
   "cell_type": "code",
   "execution_count": null,
   "id": "2e2069bb-1eb6-4e5d-8f46-c84d5bcbd185",
   "metadata": {},
   "outputs": [],
   "source": []
  },
  {
   "cell_type": "markdown",
   "id": "cebb46d2-784f-4b64-b680-faf3c1b8c497",
   "metadata": {},
   "source": []
  },
  {
   "cell_type": "code",
   "execution_count": null,
   "id": "dea411c3-07fa-4db2-9164-5d645dc8f043",
   "metadata": {},
   "outputs": [],
   "source": []
  },
  {
   "cell_type": "code",
   "execution_count": null,
   "id": "052e7f75-8e88-4fd7-a178-2b9f7aa961c5",
   "metadata": {},
   "outputs": [],
   "source": []
  },
  {
   "cell_type": "code",
   "execution_count": null,
   "id": "ec14bcd6-67f3-42fb-bf7b-adcc557dbcd4",
   "metadata": {},
   "outputs": [],
   "source": []
  }
 ],
 "metadata": {
  "kernelspec": {
   "display_name": "Python 3 (ipykernel)",
   "language": "python",
   "name": "python3"
  },
  "language_info": {
   "codemirror_mode": {
    "name": "ipython",
    "version": 3
   },
   "file_extension": ".py",
   "mimetype": "text/x-python",
   "name": "python",
   "nbconvert_exporter": "python",
   "pygments_lexer": "ipython3",
   "version": "3.9.7"
  }
 },
 "nbformat": 4,
 "nbformat_minor": 5
}
